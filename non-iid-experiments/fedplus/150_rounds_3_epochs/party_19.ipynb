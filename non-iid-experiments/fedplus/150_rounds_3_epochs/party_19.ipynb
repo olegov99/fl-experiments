{
 "cells": [
  {
   "cell_type": "code",
   "execution_count": 1,
   "id": "67ddc85a",
   "metadata": {},
   "outputs": [],
   "source": [
    "from ipynb.fs.full.config_helper import get_party_config\n",
    "\n",
    "PARTY_ID = 19"
   ]
  },
  {
   "cell_type": "code",
   "execution_count": 2,
   "id": "83d26de2",
   "metadata": {},
   "outputs": [
    {
     "name": "stderr",
     "output_type": "stream",
     "text": [
      "Yaml configuration file not found: log_config.yaml\n"
     ]
    },
    {
     "name": "stdout",
     "output_type": "stream",
     "text": [
      "2021-06-12T06:34:18.081Z | 1.0.5 | INFO | ibmfl.util.config                                  | Getting Aggregator details from arguments.\n",
      "2021-06-12T06:34:18.460Z | 1.0.5 | INFO | ibmfl.util.config                                  | No metrics recorder config provided for this setup.\n",
      "2021-06-12T06:34:18.611Z | 1.0.5 | INFO | ibmfl.util.config                                  | No data config provided for this setup.\n",
      "2021-06-12T06:34:18.612Z | 1.0.5 | INFO | ibmfl.util.data_handlers.femnist_keras_data_handler | Loaded training data from ../../data/femnist/non-iid/data_party19.npz\n"
     ]
    },
    {
     "name": "stderr",
     "output_type": "stream",
     "text": [
      "Using TensorFlow backend.\n"
     ]
    },
    {
     "name": "stdout",
     "output_type": "stream",
     "text": [
      "2021-06-12T06:34:18.666Z | 1.0.5 | INFO | ibmfl.util.data_handlers.femnist_keras_data_handler | x_train shape: (2000, 28, 28, 1)\n",
      "2021-06-12T06:34:18.666Z | 1.0.5 | INFO | ibmfl.util.data_handlers.femnist_keras_data_handler | Train Samples: 2000\n",
      "2021-06-12T06:34:18.667Z | 1.0.5 | INFO | ibmfl.util.data_handlers.femnist_keras_data_handler | Test Samples: 200\n",
      "WARNING:tensorflow:From /home/bryan/miniconda3/envs/ibm-fl/lib/python3.6/site-packages/ibmfl/model/keras_fl_model.py:59: The name tf.get_default_graph is deprecated. Please use tf.compat.v1.get_default_graph instead.\n",
      "\n",
      "2021-06-12T06:34:18.668Z | 1.0.5 | WARNING | tensorflow                                         | From /home/bryan/miniconda3/envs/ibm-fl/lib/python3.6/site-packages/ibmfl/model/keras_fl_model.py:59: The name tf.get_default_graph is deprecated. Please use tf.compat.v1.get_default_graph instead.\n",
      "\n",
      "WARNING:tensorflow:From /home/bryan/miniconda3/envs/ibm-fl/lib/python3.6/site-packages/ibmfl/model/keras_fl_model.py:60: The name tf.Session is deprecated. Please use tf.compat.v1.Session instead.\n",
      "\n",
      "2021-06-12T06:34:18.670Z | 1.0.5 | WARNING | tensorflow                                         | From /home/bryan/miniconda3/envs/ibm-fl/lib/python3.6/site-packages/ibmfl/model/keras_fl_model.py:60: The name tf.Session is deprecated. Please use tf.compat.v1.Session instead.\n",
      "\n",
      "WARNING:tensorflow:From /home/bryan/miniconda3/envs/ibm-fl/lib/python3.6/site-packages/keras/backend/tensorflow_backend.py:517: The name tf.placeholder is deprecated. Please use tf.compat.v1.placeholder instead.\n",
      "\n",
      "2021-06-12T06:34:18.691Z | 1.0.5 | WARNING | tensorflow                                         | From /home/bryan/miniconda3/envs/ibm-fl/lib/python3.6/site-packages/keras/backend/tensorflow_backend.py:517: The name tf.placeholder is deprecated. Please use tf.compat.v1.placeholder instead.\n",
      "\n",
      "WARNING:tensorflow:From /home/bryan/miniconda3/envs/ibm-fl/lib/python3.6/site-packages/keras/backend/tensorflow_backend.py:4138: The name tf.random_uniform is deprecated. Please use tf.random.uniform instead.\n",
      "\n",
      "2021-06-12T06:34:18.695Z | 1.0.5 | WARNING | tensorflow                                         | From /home/bryan/miniconda3/envs/ibm-fl/lib/python3.6/site-packages/keras/backend/tensorflow_backend.py:4138: The name tf.random_uniform is deprecated. Please use tf.random.uniform instead.\n",
      "\n",
      "WARNING:tensorflow:From /home/bryan/miniconda3/envs/ibm-fl/lib/python3.6/site-packages/keras/backend/tensorflow_backend.py:3976: The name tf.nn.max_pool is deprecated. Please use tf.nn.max_pool2d instead.\n",
      "\n",
      "2021-06-12T06:34:18.722Z | 1.0.5 | WARNING | tensorflow                                         | From /home/bryan/miniconda3/envs/ibm-fl/lib/python3.6/site-packages/keras/backend/tensorflow_backend.py:3976: The name tf.nn.max_pool is deprecated. Please use tf.nn.max_pool2d instead.\n",
      "\n",
      "WARNING:tensorflow:From /home/bryan/miniconda3/envs/ibm-fl/lib/python3.6/site-packages/keras/backend/tensorflow_backend.py:133: The name tf.placeholder_with_default is deprecated. Please use tf.compat.v1.placeholder_with_default instead.\n",
      "\n",
      "2021-06-12T06:34:18.726Z | 1.0.5 | WARNING | tensorflow                                         | From /home/bryan/miniconda3/envs/ibm-fl/lib/python3.6/site-packages/keras/backend/tensorflow_backend.py:133: The name tf.placeholder_with_default is deprecated. Please use tf.compat.v1.placeholder_with_default instead.\n",
      "\n",
      "WARNING:tensorflow:From /home/bryan/miniconda3/envs/ibm-fl/lib/python3.6/site-packages/keras/backend/tensorflow_backend.py:3445: calling dropout (from tensorflow.python.ops.nn_ops) with keep_prob is deprecated and will be removed in a future version.\n",
      "Instructions for updating:\n",
      "Please use `rate` instead of `keep_prob`. Rate should be set to `rate = 1 - keep_prob`.\n",
      "2021-06-12T06:34:18.736Z | 1.0.5 | WARNING | tensorflow                                         | From /home/bryan/miniconda3/envs/ibm-fl/lib/python3.6/site-packages/keras/backend/tensorflow_backend.py:3445: calling dropout (from tensorflow.python.ops.nn_ops) with keep_prob is deprecated and will be removed in a future version.\n",
      "Instructions for updating:\n",
      "Please use `rate` instead of `keep_prob`. Rate should be set to `rate = 1 - keep_prob`.\n",
      "WARNING:tensorflow:From /home/bryan/miniconda3/envs/ibm-fl/lib/python3.6/site-packages/keras/backend/tensorflow_backend.py:174: The name tf.get_default_session is deprecated. Please use tf.compat.v1.get_default_session instead.\n",
      "\n",
      "2021-06-12T06:34:18.806Z | 1.0.5 | WARNING | tensorflow                                         | From /home/bryan/miniconda3/envs/ibm-fl/lib/python3.6/site-packages/keras/backend/tensorflow_backend.py:174: The name tf.get_default_session is deprecated. Please use tf.compat.v1.get_default_session instead.\n",
      "\n",
      "WARNING:tensorflow:From /home/bryan/miniconda3/envs/ibm-fl/lib/python3.6/site-packages/keras/backend/tensorflow_backend.py:181: The name tf.ConfigProto is deprecated. Please use tf.compat.v1.ConfigProto instead.\n",
      "\n",
      "2021-06-12T06:34:18.808Z | 1.0.5 | WARNING | tensorflow                                         | From /home/bryan/miniconda3/envs/ibm-fl/lib/python3.6/site-packages/keras/backend/tensorflow_backend.py:181: The name tf.ConfigProto is deprecated. Please use tf.compat.v1.ConfigProto instead.\n",
      "\n",
      "WARNING:tensorflow:From /home/bryan/miniconda3/envs/ibm-fl/lib/python3.6/site-packages/keras/backend/tensorflow_backend.py:190: The name tf.global_variables is deprecated. Please use tf.compat.v1.global_variables instead.\n",
      "\n",
      "2021-06-12T06:34:18.810Z | 1.0.5 | WARNING | tensorflow                                         | From /home/bryan/miniconda3/envs/ibm-fl/lib/python3.6/site-packages/keras/backend/tensorflow_backend.py:190: The name tf.global_variables is deprecated. Please use tf.compat.v1.global_variables instead.\n",
      "\n",
      "WARNING:tensorflow:From /home/bryan/miniconda3/envs/ibm-fl/lib/python3.6/site-packages/keras/backend/tensorflow_backend.py:199: The name tf.is_variable_initialized is deprecated. Please use tf.compat.v1.is_variable_initialized instead.\n",
      "\n",
      "2021-06-12T06:34:18.811Z | 1.0.5 | WARNING | tensorflow                                         | From /home/bryan/miniconda3/envs/ibm-fl/lib/python3.6/site-packages/keras/backend/tensorflow_backend.py:199: The name tf.is_variable_initialized is deprecated. Please use tf.compat.v1.is_variable_initialized instead.\n",
      "\n",
      "WARNING:tensorflow:From /home/bryan/miniconda3/envs/ibm-fl/lib/python3.6/site-packages/keras/backend/tensorflow_backend.py:206: The name tf.variables_initializer is deprecated. Please use tf.compat.v1.variables_initializer instead.\n",
      "\n",
      "2021-06-12T06:34:18.844Z | 1.0.5 | WARNING | tensorflow                                         | From /home/bryan/miniconda3/envs/ibm-fl/lib/python3.6/site-packages/keras/backend/tensorflow_backend.py:206: The name tf.variables_initializer is deprecated. Please use tf.compat.v1.variables_initializer instead.\n",
      "\n",
      "WARNING:tensorflow:From /home/bryan/miniconda3/envs/ibm-fl/lib/python3.6/site-packages/keras/optimizers.py:790: The name tf.train.Optimizer is deprecated. Please use tf.compat.v1.train.Optimizer instead.\n",
      "\n",
      "2021-06-12T06:34:18.971Z | 1.0.5 | WARNING | tensorflow                                         | From /home/bryan/miniconda3/envs/ibm-fl/lib/python3.6/site-packages/keras/optimizers.py:790: The name tf.train.Optimizer is deprecated. Please use tf.compat.v1.train.Optimizer instead.\n",
      "\n",
      "WARNING:tensorflow:From /home/bryan/miniconda3/envs/ibm-fl/lib/python3.6/site-packages/keras/backend/tensorflow_backend.py:3295: The name tf.log is deprecated. Please use tf.math.log instead.\n",
      "\n",
      "2021-06-12T06:34:18.978Z | 1.0.5 | WARNING | tensorflow                                         | From /home/bryan/miniconda3/envs/ibm-fl/lib/python3.6/site-packages/keras/backend/tensorflow_backend.py:3295: The name tf.log is deprecated. Please use tf.math.log instead.\n",
      "\n",
      "2021-06-12T06:34:18.993Z | 1.0.5 | INFO | ibmfl.connection.flask_connection                  | RestSender initialized\n",
      "2021-06-12T06:34:18.995Z | 1.0.5 | INFO | ibmfl.connection.flask_connection                  | Receiver Initialized\n",
      "2021-06-12T06:34:18.996Z | 1.0.5 | INFO | ibmfl.connection.flask_connection                  | Initializing Flask application\n",
      "2021-06-12T06:34:18.999Z | 1.0.5 | INFO | ibmfl.party.party                                  | Party initialization successful\n"
     ]
    },
    {
     "name": "stdout",
     "output_type": "stream",
     "text": [
      "2021-06-12T06:34:19.000Z | 1.0.5 | INFO | ibmfl.party.party                                  | Party start successful\n",
      "2021-06-12T06:34:19.001Z | 1.0.5 | INFO | ibmfl.party.party                                  | Registering party...\n",
      " * Serving Flask app 'ibmfl.connection.flask_connection' (lazy loading)\n",
      " * Environment: production\n",
      "\u001b[31m   WARNING: This is a development server. Do not use it in a production deployment.\u001b[0m\n",
      "\u001b[2m   Use a production WSGI server instead.\u001b[0m\n",
      " * Debug mode: off\n",
      "2021-06-12T06:34:19.011Z | 1.0.5 | INFO | werkzeug                                           |  * Running on http://127.0.0.1:8104/ (Press CTRL+C to quit)\n",
      "2021-06-12T06:34:19.014Z | 1.0.5 | INFO | ibmfl.party.party                                  | Registration Successful\n"
     ]
    }
   ],
   "source": [
    "from ibmfl.party.party import Party\n",
    "import tensorflow as tf\n",
    "\n",
    "party_config = get_party_config(PARTY_ID)\n",
    "party = Party(config_dict=party_config)\n",
    "\n",
    "party.start()\n",
    "party.register_party()\n",
    "\n",
    "party.proto_handler.is_private = False"
   ]
  }
 ],
 "metadata": {
  "kernelspec": {
   "display_name": "Python 3",
   "language": "python",
   "name": "python3"
  },
  "language_info": {
   "codemirror_mode": {
    "name": "ipython",
    "version": 3
   },
   "file_extension": ".py",
   "mimetype": "text/x-python",
   "name": "python",
   "nbconvert_exporter": "python",
   "pygments_lexer": "ipython3",
   "version": "3.6.13"
  }
 },
 "nbformat": 4,
 "nbformat_minor": 5
}
