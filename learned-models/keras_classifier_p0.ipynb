{
 "cells": [
  {
   "cell_type": "markdown",
   "metadata": {},
   "source": [
    "# MNIST classifier in IBM FL"
   ]
  },
  {
   "cell_type": "markdown",
   "metadata": {},
   "source": [
    "## Outline:\n",
    "- [Add conda environment to Jupyter Notebook](#setup)\n",
    "- [Federated Learning(FL)](#intro)\n",
    "- [Digit Recognition](#mnist)\n",
    "- [Parties](#Parties)\n",
    "    - [Party Configuration](#Party-Configuration)\n",
    "    - [Party Setup](#Party-Setup)\n",
    "- [Register All Parties Before Starting Training](#Register-All-Parties-Before-Starting-Training)\n",
    "- [Visualize Results](#Visualize-Results)\n",
    "- [Shut Down](#Shut-Down)"
   ]
  },
  {
   "cell_type": "markdown",
   "metadata": {},
   "source": [
    "## Add conda environment to Jupyter Notebook <a name=\"setup\"></a>\n",
    "\n",
    "Please ensure that you have activated the `conda` environment following the instructions in the project README.\n",
    "\n",
    "Once done, run the following commands in your terminal to install your conda environment into the Jupyter Notebook:\n",
    "\n",
    "1. Once you have activated the conda environment, install the `ipykernel` package: `conda install -c anaconda ipykernel`\n",
    "\n",
    "2. Next, install the `ipykernel` module within Jupyter Notebook: `python -m ipykernel install --user --name=<conda_env>`\n",
    "\n",
    "3. Please install the `matplotlib` package for your conda environment. \n",
    "\n",
    "4. Finally, restart the jupyter notebook once done. Ensure that you are running this Notebook from `<project_path>/examples/keras_classifier`, where project_path is the directory where the IBMFL repository was cloned.\n",
    "\n",
    "When the Notebook is up and running it may prompt you to choose the kernel. Use the drop down to choose the kernel name same as that chosen when running `conda activate <conda_env>`. If no prompt shows up, you can change the kernel by clicking _Kernel_ > _Change kernel_ > _`<conda_env>`_."
   ]
  },
  {
   "cell_type": "markdown",
   "metadata": {},
   "source": [
    "## Federated Learning (FL) <a name=\"intro\"></a>\n",
    "\n",
    "**Federated Learning (FL)** is a distributed machine learning process in which each participant node (or party) retains their data locally and interacts with  other participants via a learning protocol. \n",
    "One main driver behind FL is the need to not share data with others  due to privacy and confidentially concerns.\n",
    "Another driver is to improve the speed of training a machine learning model by leveraging other participants' training processes.\n",
    "\n",
    "Setting up such a federated learning system requires setting up a communication infrastructure, converting machine learning algorithms to federated settings and in some cases knowing about the intricacies of security and privacy enabling techniques such as differential privacy and multi-party computation. \n",
    "\n",
    "In this Notebook we use [IBM FL](https://github.com/IBM/federated-learning-lib) to have multiple parties train a classifier to recognise handwritten digits in the [MNIST dataset](http://yann.lecun.com/exdb/mnist/). \n",
    "\n",
    "For a more technical dive into IBM FL, refer the whitepaper [here](https://arxiv.org/pdf/2007.10987.pdf)."
   ]
  },
  {
   "cell_type": "markdown",
   "metadata": {},
   "source": [
    "In the following cells, we set up each of the components of a Federated Learning network (See Figure below) wherein all involved parties aid in training their respective local cartpoles to arrive at the upright pendulum state. In this notebook we default to 2 parties, but depending on your resources you may use more parties.\n",
    "\n",
    "<img src=\"../images/FL_Network.png\" width=\"720\"/>\n",
    "<figcaption><center>Modified from Image Source: <a href=\"https://arxiv.org/pdf/2007.10987.pdf\">IBM Federated Learning: An Enterprise FrameworkWhite Paper V0.1</a></center></figcaption>"
   ]
  },
  {
   "cell_type": "markdown",
   "metadata": {},
   "source": [
    "## Digit Recognition <a name=\"mnist\"></a>\n",
    "\n"
   ]
  },
  {
   "cell_type": "markdown",
   "metadata": {},
   "source": [
    "<img src=\"../images/MnistExamples.png\" width=\"512\"/>\n",
    "<figcaption><center>Image Source: Josef Steppan / CC BY-SA <a href=\"https://creativecommons.org/licenses/by-sa/4.0\">Wikimedia Commons</a></center></figcaption>"
   ]
  },
  {
   "cell_type": "markdown",
   "metadata": {},
   "source": [
    "The problem at hand is to recognize digits from these tens of thousands of handwritten images. "
   ]
  },
  {
   "cell_type": "markdown",
   "metadata": {},
   "source": [
    "### Getting things ready\n",
    "We begin by setting the number of parties that will participate in the federated learning run and splitting up the data among them."
   ]
  },
  {
   "cell_type": "code",
   "execution_count": 1,
   "metadata": {},
   "outputs": [],
   "source": [
    "import sys\n",
    "party_id = 0\n",
    "\n",
    "sys.path.append('../..')\n",
    "import os\n",
    "os.chdir(\"../..\")\n",
    "\n",
    "num_parties = 2  ## number of participating parties\n",
    "dataset = 'mnist'"
   ]
  },
  {
   "cell_type": "markdown",
   "metadata": {},
   "source": [
    "## Parties\n",
    "\n",
    "Each party holds its own dataset that is kept to itself and used to answer queries received from the aggregator. Because each party may have stored data in different formats, FL offers an abstraction called Data Handler. This module allows for custom implementations to retrieve the data from each of the participating parties. A local training handler sits at each party to control the local training happening at the party side. "
   ]
  },
  {
   "cell_type": "markdown",
   "metadata": {},
   "source": [
    "### Party Configuration\n",
    "\n",
    "**Note**: in a typical FL setting, the parties may have very different configurations from each other. However, in this simplified example, the config does not differ much across parties. So, we first setup the configuration common to both parties, in the next cell. We discuss the parameters that are specific to each, in subsequent cells."
   ]
  },
  {
   "cell_type": "markdown",
   "metadata": {},
   "source": [
    "<img src=\"../images/arch_party.png\" width=\"680\"/>\n",
    "<figcaption><center>Image Source: <a href=\"https://arxiv.org/pdf/2007.10987.pdf\">IBM Federated Learning: An Enterprise FrameworkWhite Paper V0.1</a></center></figcaption>"
   ]
  },
  {
   "cell_type": "markdown",
   "metadata": {},
   "source": [
    "### Party Setup\n",
    "In the following cell, we setup configurations for parties, including network-level details, hyperparameters as well as the model specifications. Please note that if you are running this notebook in distributed environment on separate nodes then you need to split the data locally and obtain the model h5 generated by the Aggregator."
   ]
  },
  {
   "cell_type": "markdown",
   "metadata": {},
   "source": [
    "#### Building Blocks in Party Configuration:\n",
    "\n",
    "Now we configure party specific configurations in the `get_party_config` method, which specifies model related configurations as well as other parameters necessary for the federated learning setup. The model related configurations are identical to those generated (yaml files) during the terminal run.\n",
    "\n",
    "Once these are done, we invoke them for each party, in the subsequent cell.\n",
    "\n",
    "- `local_training_handler`: handles the train and eval commands, also initializes data, environment and models\n",
    "\n",
    "- `protocol_handler`: party protocol handler communicates with the Aggregator bridging between Aggregator and local training handler\n",
    "\n",
    "- `aggregator`: IP and port at which the Aggregator is running, so the party may connect to it\n",
    "\n",
    "- `data`: information needed to initiate a data handler class; includes a given data path, a data handler class name, and a data handler file location\n",
    "\n",
    "- `model`: details about the model, including name, the model class file location, i.e., path, and the given model specification path, i.e., spec. In this example, we use the Keras FL Model class, as indicated under the spec\n",
    "\n",
    "**Note**: in a typical FL setting, the parties may have very different configurations from each other. However, in this simplified example, the config does not differ much across parties. Also, as of this release all parties registered with the aggregator participate in the training. Dynamically letting registered parties to skip training in certain rounds will be supported in subsequent versions."
   ]
  },
  {
   "cell_type": "code",
   "execution_count": 2,
   "metadata": {
    "scrolled": false
   },
   "outputs": [],
   "source": [
    "def get_party_config(party_id):\n",
    "    party_config = {\n",
    "        'aggregator':\n",
    "            {\n",
    "                'ip': '127.0.0.1',\n",
    "                'port': 5000\n",
    "            },\n",
    "        'connection': {\n",
    "            'info': {\n",
    "                'ip': '127.0.0.1',\n",
    "                'port': 8085 + party_id,\n",
    "                'id': 'party' + str(party_id),\n",
    "                'tls_config': {\n",
    "                    'enable': False\n",
    "                }\n",
    "            },\n",
    "            'name': 'FlaskConnection',\n",
    "            'path': 'ibmfl.connection.flask_connection',\n",
    "            'sync': False\n",
    "        },\n",
    "        'data': {\n",
    "            'info': {\n",
    "                'npz_file': 'examples/data/mnist/random/data_party'+ str(party_id) +'.npz'\n",
    "            },\n",
    "            'name': 'MnistKerasDataHandler',\n",
    "            'path': 'ibmfl.util.data_handlers.mnist_keras_data_handler'\n",
    "        },\n",
    "        'local_training': {\n",
    "            'name': 'LocalTrainingHandler',\n",
    "            'path': 'ibmfl.party.training.local_training_handler'\n",
    "        },\n",
    "        'model': {\n",
    "            'name': 'KerasFLModel',\n",
    "            'path': 'ibmfl.model.keras_fl_model',\n",
    "            'spec': {\n",
    "                'model_definition': 'examples/configs/keras_classifier/compiled_keras.h5',\n",
    "                'model_name': 'keras-cnn'\n",
    "            }\n",
    "        },\n",
    "        'protocol_handler': {\n",
    "            'name': 'PartyProtocolHandler',\n",
    "            'path': 'ibmfl.party.party_protocol_handler'\n",
    "        }\n",
    "    }\n",
    "    return party_config\n"
   ]
  },
  {
   "cell_type": "markdown",
   "metadata": {},
   "source": [
    "### Running the Party\n",
    "\n",
    "Now, we invoke the `get_party_config` function to setup party and `start()` it.\n",
    "\n",
    "Finally, we register the party with the Aggregator."
   ]
  },
  {
   "cell_type": "code",
   "execution_count": 3,
   "metadata": {},
   "outputs": [
    {
     "name": "stdout",
     "output_type": "stream",
     "text": [
      "2021-05-22 17:34:35,940 | 1.0.5 | INFO | ibmfl.util.config                             | Getting Aggregator details from arguments.\n",
      "2021-05-22 17:34:36,477 | 1.0.5 | INFO | ibmfl.util.config                             | No metrics recorder config provided for this setup.\n"
     ]
    },
    {
     "name": "stderr",
     "output_type": "stream",
     "text": [
      "Using TensorFlow backend.\n"
     ]
    },
    {
     "name": "stdout",
     "output_type": "stream",
     "text": [
      "2021-05-22 17:34:36,797 | 1.0.5 | INFO | ibmfl.util.config                             | No data config provided for this setup.\n",
      "2021-05-22 17:34:36,798 | 1.0.5 | INFO | ibmfl.util.data_handlers.femnist_keras_data_handler | Loaded training data from examples/data/femnist/random/data_party0.npz\n",
      "2021-05-22 17:34:36,817 | 1.0.5 | INFO | ibmfl.util.data_handlers.femnist_keras_data_handler | x_train shape: (200, 28, 28, 1)\n",
      "2021-05-22 17:34:36,818 | 1.0.5 | INFO | ibmfl.util.data_handlers.femnist_keras_data_handler | Train Samples: 200\n",
      "2021-05-22 17:34:36,818 | 1.0.5 | INFO | ibmfl.util.data_handlers.femnist_keras_data_handler | Test Samples: 20\n",
      "WARNING:tensorflow:From C:\\Users\\frost\\miniconda3\\envs\\ibm-fl\\lib\\site-packages\\ibmfl\\model\\keras_fl_model.py:59: The name tf.get_default_graph is deprecated. Please use tf.compat.v1.get_default_graph instead.\n",
      "\n",
      "2021-05-22 17:34:36,820 | 1.0.5 | WARNING | tensorflow                                    | From C:\\Users\\frost\\miniconda3\\envs\\ibm-fl\\lib\\site-packages\\ibmfl\\model\\keras_fl_model.py:59: The name tf.get_default_graph is deprecated. Please use tf.compat.v1.get_default_graph instead.\n",
      "\n",
      "WARNING:tensorflow:From C:\\Users\\frost\\miniconda3\\envs\\ibm-fl\\lib\\site-packages\\ibmfl\\model\\keras_fl_model.py:60: The name tf.Session is deprecated. Please use tf.compat.v1.Session instead.\n",
      "\n",
      "2021-05-22 17:34:36,822 | 1.0.5 | WARNING | tensorflow                                    | From C:\\Users\\frost\\miniconda3\\envs\\ibm-fl\\lib\\site-packages\\ibmfl\\model\\keras_fl_model.py:60: The name tf.Session is deprecated. Please use tf.compat.v1.Session instead.\n",
      "\n",
      "WARNING:tensorflow:From C:\\Users\\frost\\miniconda3\\envs\\ibm-fl\\lib\\site-packages\\keras\\backend\\tensorflow_backend.py:517: The name tf.placeholder is deprecated. Please use tf.compat.v1.placeholder instead.\n",
      "\n",
      "2021-05-22 17:34:36,845 | 1.0.5 | WARNING | tensorflow                                    | From C:\\Users\\frost\\miniconda3\\envs\\ibm-fl\\lib\\site-packages\\keras\\backend\\tensorflow_backend.py:517: The name tf.placeholder is deprecated. Please use tf.compat.v1.placeholder instead.\n",
      "\n",
      "WARNING:tensorflow:From C:\\Users\\frost\\miniconda3\\envs\\ibm-fl\\lib\\site-packages\\keras\\backend\\tensorflow_backend.py:4138: The name tf.random_uniform is deprecated. Please use tf.random.uniform instead.\n",
      "\n",
      "2021-05-22 17:34:36,848 | 1.0.5 | WARNING | tensorflow                                    | From C:\\Users\\frost\\miniconda3\\envs\\ibm-fl\\lib\\site-packages\\keras\\backend\\tensorflow_backend.py:4138: The name tf.random_uniform is deprecated. Please use tf.random.uniform instead.\n",
      "\n",
      "WARNING:tensorflow:From C:\\Users\\frost\\miniconda3\\envs\\ibm-fl\\lib\\site-packages\\keras\\backend\\tensorflow_backend.py:3976: The name tf.nn.max_pool is deprecated. Please use tf.nn.max_pool2d instead.\n",
      "\n",
      "2021-05-22 17:34:36,869 | 1.0.5 | WARNING | tensorflow                                    | From C:\\Users\\frost\\miniconda3\\envs\\ibm-fl\\lib\\site-packages\\keras\\backend\\tensorflow_backend.py:3976: The name tf.nn.max_pool is deprecated. Please use tf.nn.max_pool2d instead.\n",
      "\n",
      "WARNING:tensorflow:From C:\\Users\\frost\\miniconda3\\envs\\ibm-fl\\lib\\site-packages\\keras\\backend\\tensorflow_backend.py:133: The name tf.placeholder_with_default is deprecated. Please use tf.compat.v1.placeholder_with_default instead.\n",
      "\n",
      "2021-05-22 17:34:36,871 | 1.0.5 | WARNING | tensorflow                                    | From C:\\Users\\frost\\miniconda3\\envs\\ibm-fl\\lib\\site-packages\\keras\\backend\\tensorflow_backend.py:133: The name tf.placeholder_with_default is deprecated. Please use tf.compat.v1.placeholder_with_default instead.\n",
      "\n",
      "WARNING:tensorflow:From C:\\Users\\frost\\miniconda3\\envs\\ibm-fl\\lib\\site-packages\\keras\\backend\\tensorflow_backend.py:3445: calling dropout (from tensorflow.python.ops.nn_ops) with keep_prob is deprecated and will be removed in a future version.\n",
      "Instructions for updating:\n",
      "Please use `rate` instead of `keep_prob`. Rate should be set to `rate = 1 - keep_prob`.\n",
      "2021-05-22 17:34:36,881 | 1.0.5 | WARNING | tensorflow                                    | From C:\\Users\\frost\\miniconda3\\envs\\ibm-fl\\lib\\site-packages\\keras\\backend\\tensorflow_backend.py:3445: calling dropout (from tensorflow.python.ops.nn_ops) with keep_prob is deprecated and will be removed in a future version.\n",
      "Instructions for updating:\n",
      "Please use `rate` instead of `keep_prob`. Rate should be set to `rate = 1 - keep_prob`.\n",
      "WARNING:tensorflow:From C:\\Users\\frost\\miniconda3\\envs\\ibm-fl\\lib\\site-packages\\keras\\backend\\tensorflow_backend.py:174: The name tf.get_default_session is deprecated. Please use tf.compat.v1.get_default_session instead.\n",
      "\n",
      "2021-05-22 17:34:36,940 | 1.0.5 | WARNING | tensorflow                                    | From C:\\Users\\frost\\miniconda3\\envs\\ibm-fl\\lib\\site-packages\\keras\\backend\\tensorflow_backend.py:174: The name tf.get_default_session is deprecated. Please use tf.compat.v1.get_default_session instead.\n",
      "\n",
      "WARNING:tensorflow:From C:\\Users\\frost\\miniconda3\\envs\\ibm-fl\\lib\\site-packages\\keras\\backend\\tensorflow_backend.py:181: The name tf.ConfigProto is deprecated. Please use tf.compat.v1.ConfigProto instead.\n",
      "\n",
      "2021-05-22 17:34:36,942 | 1.0.5 | WARNING | tensorflow                                    | From C:\\Users\\frost\\miniconda3\\envs\\ibm-fl\\lib\\site-packages\\keras\\backend\\tensorflow_backend.py:181: The name tf.ConfigProto is deprecated. Please use tf.compat.v1.ConfigProto instead.\n",
      "\n",
      "WARNING:tensorflow:From C:\\Users\\frost\\miniconda3\\envs\\ibm-fl\\lib\\site-packages\\keras\\backend\\tensorflow_backend.py:190: The name tf.global_variables is deprecated. Please use tf.compat.v1.global_variables instead.\n",
      "\n",
      "2021-05-22 17:34:36,943 | 1.0.5 | WARNING | tensorflow                                    | From C:\\Users\\frost\\miniconda3\\envs\\ibm-fl\\lib\\site-packages\\keras\\backend\\tensorflow_backend.py:190: The name tf.global_variables is deprecated. Please use tf.compat.v1.global_variables instead.\n",
      "\n",
      "WARNING:tensorflow:From C:\\Users\\frost\\miniconda3\\envs\\ibm-fl\\lib\\site-packages\\keras\\backend\\tensorflow_backend.py:199: The name tf.is_variable_initialized is deprecated. Please use tf.compat.v1.is_variable_initialized instead.\n",
      "\n",
      "2021-05-22 17:34:36,944 | 1.0.5 | WARNING | tensorflow                                    | From C:\\Users\\frost\\miniconda3\\envs\\ibm-fl\\lib\\site-packages\\keras\\backend\\tensorflow_backend.py:199: The name tf.is_variable_initialized is deprecated. Please use tf.compat.v1.is_variable_initialized instead.\n",
      "\n",
      "WARNING:tensorflow:From C:\\Users\\frost\\miniconda3\\envs\\ibm-fl\\lib\\site-packages\\keras\\backend\\tensorflow_backend.py:206: The name tf.variables_initializer is deprecated. Please use tf.compat.v1.variables_initializer instead.\n",
      "\n",
      "2021-05-22 17:34:36,958 | 1.0.5 | WARNING | tensorflow                                    | From C:\\Users\\frost\\miniconda3\\envs\\ibm-fl\\lib\\site-packages\\keras\\backend\\tensorflow_backend.py:206: The name tf.variables_initializer is deprecated. Please use tf.compat.v1.variables_initializer instead.\n",
      "\n",
      "WARNING:tensorflow:From C:\\Users\\frost\\miniconda3\\envs\\ibm-fl\\lib\\site-packages\\keras\\optimizers.py:790: The name tf.train.Optimizer is deprecated. Please use tf.compat.v1.train.Optimizer instead.\n",
      "\n",
      "2021-05-22 17:34:36,997 | 1.0.5 | WARNING | tensorflow                                    | From C:\\Users\\frost\\miniconda3\\envs\\ibm-fl\\lib\\site-packages\\keras\\optimizers.py:790: The name tf.train.Optimizer is deprecated. Please use tf.compat.v1.train.Optimizer instead.\n",
      "\n",
      "WARNING:tensorflow:From C:\\Users\\frost\\miniconda3\\envs\\ibm-fl\\lib\\site-packages\\keras\\backend\\tensorflow_backend.py:3295: The name tf.log is deprecated. Please use tf.math.log instead.\n",
      "\n",
      "2021-05-22 17:34:37,003 | 1.0.5 | WARNING | tensorflow                                    | From C:\\Users\\frost\\miniconda3\\envs\\ibm-fl\\lib\\site-packages\\keras\\backend\\tensorflow_backend.py:3295: The name tf.log is deprecated. Please use tf.math.log instead.\n",
      "\n",
      "2021-05-22 17:34:37,017 | 1.0.5 | INFO | ibmfl.connection.flask_connection             | RestSender initialized\n",
      "2021-05-22 17:34:37,022 | 1.0.5 | INFO | ibmfl.connection.flask_connection             | Receiver Initialized\n",
      "2021-05-22 17:34:37,023 | 1.0.5 | INFO | ibmfl.connection.flask_connection             | Initializing Flask application\n",
      "2021-05-22 17:34:37,026 | 1.0.5 | INFO | ibmfl.party.party                             | Party initialization successful\n"
     ]
    }
   ],
   "source": [
    "from ibmfl.party.party import Party\n",
    "import tensorflow as tf\n",
    "\n",
    "party_config = get_party_config(party_id)\n",
    "party = Party(config_dict=party_config)"
   ]
  },
  {
   "cell_type": "code",
   "execution_count": 3,
   "metadata": {},
   "outputs": [
    {
     "name": "stdout",
     "output_type": "stream",
     "text": [
      "2021-05-22 17:59:35,760 | 1.0.5 | INFO | ibmfl.util.config                             | Getting Aggregator details from arguments.\n"
     ]
    },
    {
     "name": "stderr",
     "output_type": "stream",
     "text": [
      "Using TensorFlow backend.\n"
     ]
    },
    {
     "name": "stdout",
     "output_type": "stream",
     "text": [
      "2021-05-22 17:59:36,295 | 1.0.5 | INFO | ibmfl.util.config                             | No metrics recorder config provided for this setup.\n",
      "2021-05-22 17:59:36,626 | 1.0.5 | INFO | ibmfl.util.config                             | No data config provided for this setup.\n",
      "2021-05-22 17:59:36,627 | 1.0.5 | INFO | ibmfl.util.data_handlers.mnist_keras_data_handler | Loaded training data from examples/data/mnist/random/data_party0.npz\n",
      "WARNING:tensorflow:From C:\\Users\\frost\\miniconda3\\envs\\ibm-fl\\lib\\site-packages\\ibmfl\\model\\keras_fl_model.py:59: The name tf.get_default_graph is deprecated. Please use tf.compat.v1.get_default_graph instead.\n",
      "\n",
      "2021-05-22 17:59:36,678 | 1.0.5 | WARNING | tensorflow                                    | From C:\\Users\\frost\\miniconda3\\envs\\ibm-fl\\lib\\site-packages\\ibmfl\\model\\keras_fl_model.py:59: The name tf.get_default_graph is deprecated. Please use tf.compat.v1.get_default_graph instead.\n",
      "\n",
      "WARNING:tensorflow:From C:\\Users\\frost\\miniconda3\\envs\\ibm-fl\\lib\\site-packages\\ibmfl\\model\\keras_fl_model.py:60: The name tf.Session is deprecated. Please use tf.compat.v1.Session instead.\n",
      "\n",
      "2021-05-22 17:59:36,680 | 1.0.5 | WARNING | tensorflow                                    | From C:\\Users\\frost\\miniconda3\\envs\\ibm-fl\\lib\\site-packages\\ibmfl\\model\\keras_fl_model.py:60: The name tf.Session is deprecated. Please use tf.compat.v1.Session instead.\n",
      "\n",
      "WARNING:tensorflow:From C:\\Users\\frost\\miniconda3\\envs\\ibm-fl\\lib\\site-packages\\keras\\backend\\tensorflow_backend.py:517: The name tf.placeholder is deprecated. Please use tf.compat.v1.placeholder instead.\n",
      "\n",
      "2021-05-22 17:59:36,697 | 1.0.5 | WARNING | tensorflow                                    | From C:\\Users\\frost\\miniconda3\\envs\\ibm-fl\\lib\\site-packages\\keras\\backend\\tensorflow_backend.py:517: The name tf.placeholder is deprecated. Please use tf.compat.v1.placeholder instead.\n",
      "\n",
      "WARNING:tensorflow:From C:\\Users\\frost\\miniconda3\\envs\\ibm-fl\\lib\\site-packages\\keras\\backend\\tensorflow_backend.py:4138: The name tf.random_uniform is deprecated. Please use tf.random.uniform instead.\n",
      "\n",
      "2021-05-22 17:59:36,700 | 1.0.5 | WARNING | tensorflow                                    | From C:\\Users\\frost\\miniconda3\\envs\\ibm-fl\\lib\\site-packages\\keras\\backend\\tensorflow_backend.py:4138: The name tf.random_uniform is deprecated. Please use tf.random.uniform instead.\n",
      "\n",
      "WARNING:tensorflow:From C:\\Users\\frost\\miniconda3\\envs\\ibm-fl\\lib\\site-packages\\keras\\backend\\tensorflow_backend.py:3976: The name tf.nn.max_pool is deprecated. Please use tf.nn.max_pool2d instead.\n",
      "\n",
      "2021-05-22 17:59:36,718 | 1.0.5 | WARNING | tensorflow                                    | From C:\\Users\\frost\\miniconda3\\envs\\ibm-fl\\lib\\site-packages\\keras\\backend\\tensorflow_backend.py:3976: The name tf.nn.max_pool is deprecated. Please use tf.nn.max_pool2d instead.\n",
      "\n",
      "WARNING:tensorflow:From C:\\Users\\frost\\miniconda3\\envs\\ibm-fl\\lib\\site-packages\\keras\\backend\\tensorflow_backend.py:133: The name tf.placeholder_with_default is deprecated. Please use tf.compat.v1.placeholder_with_default instead.\n",
      "\n",
      "2021-05-22 17:59:36,720 | 1.0.5 | WARNING | tensorflow                                    | From C:\\Users\\frost\\miniconda3\\envs\\ibm-fl\\lib\\site-packages\\keras\\backend\\tensorflow_backend.py:133: The name tf.placeholder_with_default is deprecated. Please use tf.compat.v1.placeholder_with_default instead.\n",
      "\n",
      "WARNING:tensorflow:From C:\\Users\\frost\\miniconda3\\envs\\ibm-fl\\lib\\site-packages\\keras\\backend\\tensorflow_backend.py:3445: calling dropout (from tensorflow.python.ops.nn_ops) with keep_prob is deprecated and will be removed in a future version.\n",
      "Instructions for updating:\n",
      "Please use `rate` instead of `keep_prob`. Rate should be set to `rate = 1 - keep_prob`.\n",
      "2021-05-22 17:59:36,727 | 1.0.5 | WARNING | tensorflow                                    | From C:\\Users\\frost\\miniconda3\\envs\\ibm-fl\\lib\\site-packages\\keras\\backend\\tensorflow_backend.py:3445: calling dropout (from tensorflow.python.ops.nn_ops) with keep_prob is deprecated and will be removed in a future version.\n",
      "Instructions for updating:\n",
      "Please use `rate` instead of `keep_prob`. Rate should be set to `rate = 1 - keep_prob`.\n",
      "WARNING:tensorflow:From C:\\Users\\frost\\miniconda3\\envs\\ibm-fl\\lib\\site-packages\\keras\\backend\\tensorflow_backend.py:174: The name tf.get_default_session is deprecated. Please use tf.compat.v1.get_default_session instead.\n",
      "\n",
      "2021-05-22 17:59:36,782 | 1.0.5 | WARNING | tensorflow                                    | From C:\\Users\\frost\\miniconda3\\envs\\ibm-fl\\lib\\site-packages\\keras\\backend\\tensorflow_backend.py:174: The name tf.get_default_session is deprecated. Please use tf.compat.v1.get_default_session instead.\n",
      "\n",
      "WARNING:tensorflow:From C:\\Users\\frost\\miniconda3\\envs\\ibm-fl\\lib\\site-packages\\keras\\backend\\tensorflow_backend.py:181: The name tf.ConfigProto is deprecated. Please use tf.compat.v1.ConfigProto instead.\n",
      "\n",
      "2021-05-22 17:59:36,783 | 1.0.5 | WARNING | tensorflow                                    | From C:\\Users\\frost\\miniconda3\\envs\\ibm-fl\\lib\\site-packages\\keras\\backend\\tensorflow_backend.py:181: The name tf.ConfigProto is deprecated. Please use tf.compat.v1.ConfigProto instead.\n",
      "\n",
      "WARNING:tensorflow:From C:\\Users\\frost\\miniconda3\\envs\\ibm-fl\\lib\\site-packages\\keras\\backend\\tensorflow_backend.py:190: The name tf.global_variables is deprecated. Please use tf.compat.v1.global_variables instead.\n",
      "\n",
      "2021-05-22 17:59:36,785 | 1.0.5 | WARNING | tensorflow                                    | From C:\\Users\\frost\\miniconda3\\envs\\ibm-fl\\lib\\site-packages\\keras\\backend\\tensorflow_backend.py:190: The name tf.global_variables is deprecated. Please use tf.compat.v1.global_variables instead.\n",
      "\n",
      "WARNING:tensorflow:From C:\\Users\\frost\\miniconda3\\envs\\ibm-fl\\lib\\site-packages\\keras\\backend\\tensorflow_backend.py:199: The name tf.is_variable_initialized is deprecated. Please use tf.compat.v1.is_variable_initialized instead.\n",
      "\n",
      "2021-05-22 17:59:36,786 | 1.0.5 | WARNING | tensorflow                                    | From C:\\Users\\frost\\miniconda3\\envs\\ibm-fl\\lib\\site-packages\\keras\\backend\\tensorflow_backend.py:199: The name tf.is_variable_initialized is deprecated. Please use tf.compat.v1.is_variable_initialized instead.\n",
      "\n",
      "WARNING:tensorflow:From C:\\Users\\frost\\miniconda3\\envs\\ibm-fl\\lib\\site-packages\\keras\\backend\\tensorflow_backend.py:206: The name tf.variables_initializer is deprecated. Please use tf.compat.v1.variables_initializer instead.\n",
      "\n",
      "2021-05-22 17:59:36,800 | 1.0.5 | WARNING | tensorflow                                    | From C:\\Users\\frost\\miniconda3\\envs\\ibm-fl\\lib\\site-packages\\keras\\backend\\tensorflow_backend.py:206: The name tf.variables_initializer is deprecated. Please use tf.compat.v1.variables_initializer instead.\n",
      "\n",
      "WARNING:tensorflow:From C:\\Users\\frost\\miniconda3\\envs\\ibm-fl\\lib\\site-packages\\keras\\optimizers.py:790: The name tf.train.Optimizer is deprecated. Please use tf.compat.v1.train.Optimizer instead.\n",
      "\n",
      "2021-05-22 17:59:36,834 | 1.0.5 | WARNING | tensorflow                                    | From C:\\Users\\frost\\miniconda3\\envs\\ibm-fl\\lib\\site-packages\\keras\\optimizers.py:790: The name tf.train.Optimizer is deprecated. Please use tf.compat.v1.train.Optimizer instead.\n",
      "\n",
      "WARNING:tensorflow:From C:\\Users\\frost\\miniconda3\\envs\\ibm-fl\\lib\\site-packages\\keras\\backend\\tensorflow_backend.py:3295: The name tf.log is deprecated. Please use tf.math.log instead.\n",
      "\n",
      "2021-05-22 17:59:36,839 | 1.0.5 | WARNING | tensorflow                                    | From C:\\Users\\frost\\miniconda3\\envs\\ibm-fl\\lib\\site-packages\\keras\\backend\\tensorflow_backend.py:3295: The name tf.log is deprecated. Please use tf.math.log instead.\n",
      "\n",
      "2021-05-22 17:59:36,852 | 1.0.5 | INFO | ibmfl.connection.flask_connection             | RestSender initialized\n",
      "2021-05-22 17:59:36,855 | 1.0.5 | INFO | ibmfl.connection.flask_connection             | Receiver Initialized\n",
      "2021-05-22 17:59:36,856 | 1.0.5 | INFO | ibmfl.connection.flask_connection             | Initializing Flask application\n",
      "2021-05-22 17:59:36,859 | 1.0.5 | INFO | ibmfl.party.party                             | Party initialization successful\n",
      "2021-05-22 17:59:36,860 | 1.0.5 | INFO | ibmfl.party.party                             | Party start successful\n"
     ]
    },
    {
     "name": "stdout",
     "output_type": "stream",
     "text": [
      "2021-05-22 17:59:36,861 | 1.0.5 | INFO | ibmfl.party.party                             | Registering party...\n",
      " * Serving Flask app 'ibmfl.connection.flask_connection' (lazy loading)\n",
      " * Environment: production\n",
      "\u001b[31m   WARNING: This is a development server. Do not use it in a production deployment.\u001b[0m\n",
      "\u001b[2m   Use a production WSGI server instead.\u001b[0m\n",
      " * Debug mode: off\n",
      "2021-05-22 17:59:36,875 | 1.0.5 | INFO | werkzeug                                      |  * Running on http://127.0.0.1:8085/ (Press CTRL+C to quit)\n",
      "2021-05-22 17:59:36,878 | 1.0.5 | INFO | ibmfl.party.party                             | Registration Successful\n",
      "2021-05-22 18:00:07,689 | 1.0.5 | INFO | ibmfl.connection.flask_connection             | Request received for path :7\n",
      "2021-05-22 18:00:07,693 | 1.0.5 | INFO | ibmfl.party.party_protocol_handler            | received a async request\n",
      "2021-05-22 18:00:07,694 | 1.0.5 | INFO | ibmfl.party.party_protocol_handler            | finished async request\n",
      "2021-05-22 18:00:07,694 | 1.0.5 | INFO | ibmfl.party.party_protocol_handler            | Handling async request in a separate thread\n",
      "2021-05-22 18:00:07,700 | 1.0.5 | INFO | werkzeug                                      | 127.0.0.1 - - [22/May/2021 18:00:07] \"POST /7 HTTP/1.1\" 200 -\n",
      "2021-05-22 18:00:07,702 | 1.0.5 | INFO | ibmfl.party.party_protocol_handler            | Received request from aggregator\n",
      "2021-05-22 18:00:07,705 | 1.0.5 | INFO | ibmfl.party.party_protocol_handler            | Received request in with message_type:  7\n",
      "2021-05-22 18:00:07,706 | 1.0.5 | INFO | ibmfl.party.party_protocol_handler            | Received request in PH 7\n",
      "2021-05-22 18:00:07,708 | 1.0.5 | INFO | ibmfl.party.training.local_training_handler   | No model update was provided.\n",
      "2021-05-22 18:00:07,709 | 1.0.5 | INFO | ibmfl.party.training.local_training_handler   | Local training started...\n",
      "2021-05-22 18:00:07,710 | 1.0.5 | INFO | ibmfl.model.keras_fl_model                    | Training hps for this round => batch_size: 128, epochs 3, steps_per_epoch 100\n",
      "WARNING:tensorflow:From C:\\Users\\frost\\miniconda3\\envs\\ibm-fl\\lib\\site-packages\\tensorflow_core\\python\\ops\\math_grad.py:1424: where (from tensorflow.python.ops.array_ops) is deprecated and will be removed in a future version.\n",
      "Instructions for updating:\n",
      "Use tf.where in 2.0, which has the same broadcast rule as np.where\n",
      "2021-05-22 18:00:07,763 | 1.0.5 | WARNING | tensorflow                                    | From C:\\Users\\frost\\miniconda3\\envs\\ibm-fl\\lib\\site-packages\\tensorflow_core\\python\\ops\\math_grad.py:1424: where (from tensorflow.python.ops.array_ops) is deprecated and will be removed in a future version.\n",
      "Instructions for updating:\n",
      "Use tf.where in 2.0, which has the same broadcast rule as np.where\n",
      "WARNING:tensorflow:From C:\\Users\\frost\\miniconda3\\envs\\ibm-fl\\lib\\site-packages\\keras\\backend\\tensorflow_backend.py:986: The name tf.assign_add is deprecated. Please use tf.compat.v1.assign_add instead.\n",
      "\n",
      "2021-05-22 18:00:07,883 | 1.0.5 | WARNING | tensorflow                                    | From C:\\Users\\frost\\miniconda3\\envs\\ibm-fl\\lib\\site-packages\\keras\\backend\\tensorflow_backend.py:986: The name tf.assign_add is deprecated. Please use tf.compat.v1.assign_add instead.\n",
      "\n",
      "WARNING:tensorflow:From C:\\Users\\frost\\miniconda3\\envs\\ibm-fl\\lib\\site-packages\\keras\\backend\\tensorflow_backend.py:973: The name tf.assign is deprecated. Please use tf.compat.v1.assign instead.\n",
      "\n",
      "2021-05-22 18:00:07,887 | 1.0.5 | WARNING | tensorflow                                    | From C:\\Users\\frost\\miniconda3\\envs\\ibm-fl\\lib\\site-packages\\keras\\backend\\tensorflow_backend.py:973: The name tf.assign is deprecated. Please use tf.compat.v1.assign instead.\n",
      "\n",
      "Epoch 1/3\n",
      "200/200 [==============================] - 1s 3ms/step - loss: 2.2919 - acc: 0.1300\n",
      "Epoch 2/3\n",
      "200/200 [==============================] - 0s 2ms/step - loss: 1.9673 - acc: 0.4150\n",
      "Epoch 3/3\n",
      "200/200 [==============================] - 0s 2ms/step - loss: 1.8200 - acc: 0.4050\n",
      "2021-05-22 18:00:09,565 | 1.0.5 | INFO | ibmfl.party.training.local_training_handler   | Local training done, generating model update...\n",
      "5000/5000 [==============================] - 1s 261us/step\n",
      "2021-05-22 18:00:12,219 | 1.0.5 | INFO | ibmfl.model.keras_fl_model                    | {'f1 micro': 0.24, 'precision micro': 0.98, 'recall micro': 0.13, 'f1 macro': 0.16, 'precision macro': 0.4, 'recall macro': 0.13, 'f1 weighted': 0.17, 'precision weighted': 0.39, 'recall weighted': 0.13}\n",
      "2021-05-22 18:00:12,220 | 1.0.5 | INFO | ibmfl.model.keras_fl_model                    | {'loss': 1.6281577919006347, 'acc': 0.458, 'f1 micro': 0.24, 'precision micro': 0.98, 'recall micro': 0.13, 'f1 macro': 0.16, 'precision macro': 0.4, 'recall macro': 0.13, 'f1 weighted': 0.17, 'precision weighted': 0.39, 'recall weighted': 0.13}\n",
      "2021-05-22 18:00:12,221 | 1.0.5 | INFO | ibmfl.party.training.local_training_handler   | {'loss': 1.6281577919006347, 'acc': 0.458, 'f1 micro': 0.24, 'precision micro': 0.98, 'recall micro': 0.13, 'f1 macro': 0.16, 'precision macro': 0.4, 'recall macro': 0.13, 'f1 weighted': 0.17, 'precision weighted': 0.39, 'recall weighted': 0.13}\n",
      "2021-05-22 18:00:12,222 | 1.0.5 | INFO | ibmfl.party.party_protocol_handler            | successfully finished async request\n",
      "2021-05-22 18:00:12,921 | 1.0.5 | INFO | ibmfl.connection.flask_connection             | Request received for path :7\n",
      "2021-05-22 18:00:12,967 | 1.0.5 | INFO | ibmfl.party.party_protocol_handler            | received a async request\n",
      "2021-05-22 18:00:12,968 | 1.0.5 | INFO | ibmfl.party.party_protocol_handler            | finished async request\n",
      "2021-05-22 18:00:12,969 | 1.0.5 | INFO | werkzeug                                      | 127.0.0.1 - - [22/May/2021 18:00:12] \"POST /7 HTTP/1.1\" 200 -\n",
      "2021-05-22 18:00:12,970 | 1.0.5 | INFO | ibmfl.party.party_protocol_handler            | Handling async request in a separate thread\n",
      "2021-05-22 18:00:12,972 | 1.0.5 | INFO | ibmfl.party.party_protocol_handler            | Received request from aggregator\n",
      "2021-05-22 18:00:12,973 | 1.0.5 | INFO | ibmfl.party.party_protocol_handler            | Received request in with message_type:  7\n",
      "2021-05-22 18:00:12,974 | 1.0.5 | INFO | ibmfl.party.party_protocol_handler            | Received request in PH 7\n",
      "2021-05-22 18:00:12,994 | 1.0.5 | INFO | ibmfl.party.training.local_training_handler   | Local model updated.\n",
      "2021-05-22 18:00:12,995 | 1.0.5 | INFO | ibmfl.party.training.local_training_handler   | Local training started...\n",
      "2021-05-22 18:00:12,996 | 1.0.5 | INFO | ibmfl.model.keras_fl_model                    | Training hps for this round => batch_size: 128, epochs 3, steps_per_epoch 100\n",
      "Epoch 1/3\n",
      "200/200 [==============================] - 1s 3ms/step - loss: 1.3735 - acc: 0.6000\n",
      "Epoch 2/3\n",
      "200/200 [==============================] - 0s 2ms/step - loss: 1.1290 - acc: 0.6600\n",
      "Epoch 3/3\n",
      "200/200 [==============================] - 0s 2ms/step - loss: 1.5145 - acc: 0.5150\n",
      "2021-05-22 18:00:14,493 | 1.0.5 | INFO | ibmfl.party.training.local_training_handler   | Local training done, generating model update...\n",
      "5000/5000 [==============================] - 1s 280us/step\n",
      "2021-05-22 18:00:17,159 | 1.0.5 | INFO | ibmfl.model.keras_fl_model                    | {'f1 micro': 0.57, 'precision micro': 0.93, 'recall micro': 0.41, 'f1 macro': 0.47, 'precision macro': 0.86, 'recall macro': 0.39, 'f1 weighted': 0.48, 'precision weighted': 0.86, 'recall weighted': 0.41}\n",
      "2021-05-22 18:00:17,160 | 1.0.5 | INFO | ibmfl.model.keras_fl_model                    | {'loss': 1.0439806314468383, 'acc': 0.6948, 'f1 micro': 0.57, 'precision micro': 0.93, 'recall micro': 0.41, 'f1 macro': 0.47, 'precision macro': 0.86, 'recall macro': 0.39, 'f1 weighted': 0.48, 'precision weighted': 0.86, 'recall weighted': 0.41}\n",
      "2021-05-22 18:00:17,161 | 1.0.5 | INFO | ibmfl.party.training.local_training_handler   | {'loss': 1.0439806314468383, 'acc': 0.6948, 'f1 micro': 0.57, 'precision micro': 0.93, 'recall micro': 0.41, 'f1 macro': 0.47, 'precision macro': 0.86, 'recall macro': 0.39, 'f1 weighted': 0.48, 'precision weighted': 0.86, 'recall weighted': 0.41}\n",
      "2021-05-22 18:00:17,163 | 1.0.5 | INFO | ibmfl.party.party_protocol_handler            | successfully finished async request\n"
     ]
    },
    {
     "name": "stdout",
     "output_type": "stream",
     "text": [
      "2021-05-22 18:00:18,238 | 1.0.5 | INFO | ibmfl.connection.flask_connection             | Request received for path :7\n",
      "2021-05-22 18:00:18,302 | 1.0.5 | INFO | ibmfl.party.party_protocol_handler            | received a async request\n",
      "2021-05-22 18:00:18,303 | 1.0.5 | INFO | ibmfl.party.party_protocol_handler            | finished async request\n",
      "2021-05-22 18:00:18,304 | 1.0.5 | INFO | ibmfl.party.party_protocol_handler            | Handling async request in a separate thread\n",
      "2021-05-22 18:00:18,305 | 1.0.5 | INFO | werkzeug                                      | 127.0.0.1 - - [22/May/2021 18:00:18] \"POST /7 HTTP/1.1\" 200 -\n",
      "2021-05-22 18:00:18,307 | 1.0.5 | INFO | ibmfl.party.party_protocol_handler            | Received request from aggregator\n",
      "2021-05-22 18:00:18,310 | 1.0.5 | INFO | ibmfl.party.party_protocol_handler            | Received request in with message_type:  7\n",
      "2021-05-22 18:00:18,311 | 1.0.5 | INFO | ibmfl.party.party_protocol_handler            | Received request in PH 7\n",
      "2021-05-22 18:00:18,325 | 1.0.5 | INFO | ibmfl.party.training.local_training_handler   | Local model updated.\n",
      "2021-05-22 18:00:18,326 | 1.0.5 | INFO | ibmfl.party.training.local_training_handler   | Local training started...\n",
      "2021-05-22 18:00:18,327 | 1.0.5 | INFO | ibmfl.model.keras_fl_model                    | Training hps for this round => batch_size: 128, epochs 3, steps_per_epoch 100\n",
      "Epoch 1/3\n",
      "200/200 [==============================] - 0s 2ms/step - loss: 0.8658 - acc: 0.7850\n",
      "Epoch 2/3\n",
      "200/200 [==============================] - 1s 3ms/step - loss: 0.9340 - acc: 0.7350\n",
      "Epoch 3/3\n",
      "200/200 [==============================] - 0s 2ms/step - loss: 0.7377 - acc: 0.7650\n",
      "2021-05-22 18:00:19,816 | 1.0.5 | INFO | ibmfl.party.training.local_training_handler   | Local training done, generating model update...\n",
      "5000/5000 [==============================] - 1s 254us/step\n",
      "2021-05-22 18:00:22,309 | 1.0.5 | INFO | ibmfl.model.keras_fl_model                    | {'f1 micro': 0.73, 'precision micro': 0.82, 'recall micro': 0.65, 'f1 macro': 0.67, 'precision macro': 0.87, 'recall macro': 0.64, 'f1 weighted': 0.68, 'precision weighted': 0.87, 'recall weighted': 0.65}\n",
      "2021-05-22 18:00:22,310 | 1.0.5 | INFO | ibmfl.model.keras_fl_model                    | {'loss': 0.7969384477615357, 'acc': 0.7204, 'f1 micro': 0.73, 'precision micro': 0.82, 'recall micro': 0.65, 'f1 macro': 0.67, 'precision macro': 0.87, 'recall macro': 0.64, 'f1 weighted': 0.68, 'precision weighted': 0.87, 'recall weighted': 0.65}\n",
      "2021-05-22 18:00:22,310 | 1.0.5 | INFO | ibmfl.party.training.local_training_handler   | {'loss': 0.7969384477615357, 'acc': 0.7204, 'f1 micro': 0.73, 'precision micro': 0.82, 'recall micro': 0.65, 'f1 macro': 0.67, 'precision macro': 0.87, 'recall macro': 0.64, 'f1 weighted': 0.68, 'precision weighted': 0.87, 'recall weighted': 0.65}\n",
      "2021-05-22 18:00:22,311 | 1.0.5 | INFO | ibmfl.party.party_protocol_handler            | successfully finished async request\n",
      "2021-05-22 18:00:23,534 | 1.0.5 | INFO | ibmfl.connection.flask_connection             | Request received for path :7\n",
      "2021-05-22 18:00:23,581 | 1.0.5 | INFO | ibmfl.party.party_protocol_handler            | received a async request\n",
      "2021-05-22 18:00:23,582 | 1.0.5 | INFO | ibmfl.party.party_protocol_handler            | finished async request\n",
      "2021-05-22 18:00:23,582 | 1.0.5 | INFO | ibmfl.party.party_protocol_handler            | Handling async request in a separate thread\n",
      "2021-05-22 18:00:23,584 | 1.0.5 | INFO | werkzeug                                      | 127.0.0.1 - - [22/May/2021 18:00:23] \"POST /7 HTTP/1.1\" 200 -\n",
      "2021-05-22 18:00:23,585 | 1.0.5 | INFO | ibmfl.party.party_protocol_handler            | Received request from aggregator\n",
      "2021-05-22 18:00:23,587 | 1.0.5 | INFO | ibmfl.party.party_protocol_handler            | Received request in with message_type:  7\n",
      "2021-05-22 18:00:23,589 | 1.0.5 | INFO | ibmfl.party.party_protocol_handler            | Received request in PH 7\n",
      "2021-05-22 18:00:23,610 | 1.0.5 | INFO | ibmfl.party.training.local_training_handler   | Local model updated.\n",
      "2021-05-22 18:00:23,612 | 1.0.5 | INFO | ibmfl.party.training.local_training_handler   | Local training started...\n",
      "2021-05-22 18:00:23,613 | 1.0.5 | INFO | ibmfl.model.keras_fl_model                    | Training hps for this round => batch_size: 128, epochs 3, steps_per_epoch 100\n",
      "Epoch 1/3\n",
      "200/200 [==============================] - 0s 2ms/step - loss: 0.6625 - acc: 0.7750\n",
      "Epoch 2/3\n",
      "200/200 [==============================] - 0s 2ms/step - loss: 0.7200 - acc: 0.7700\n",
      "Epoch 3/3\n",
      "200/200 [==============================] - 0s 2ms/step - loss: 0.6042 - acc: 0.8150\n",
      "2021-05-22 18:00:25,063 | 1.0.5 | INFO | ibmfl.party.training.local_training_handler   | Local training done, generating model update...\n",
      "5000/5000 [==============================] - 1s 253us/step\n",
      "2021-05-22 18:00:27,605 | 1.0.5 | INFO | ibmfl.model.keras_fl_model                    | {'f1 micro': 0.68, 'precision micro': 0.73, 'recall micro': 0.62, 'f1 macro': 0.62, 'precision macro': 0.87, 'recall macro': 0.61, 'f1 weighted': 0.63, 'precision weighted': 0.87, 'recall weighted': 0.62}\n",
      "2021-05-22 18:00:27,607 | 1.0.5 | INFO | ibmfl.model.keras_fl_model                    | {'loss': 0.9528288299560547, 'acc': 0.6832, 'f1 micro': 0.68, 'precision micro': 0.73, 'recall micro': 0.62, 'f1 macro': 0.62, 'precision macro': 0.87, 'recall macro': 0.61, 'f1 weighted': 0.63, 'precision weighted': 0.87, 'recall weighted': 0.62}\n",
      "2021-05-22 18:00:27,608 | 1.0.5 | INFO | ibmfl.party.training.local_training_handler   | {'loss': 0.9528288299560547, 'acc': 0.6832, 'f1 micro': 0.68, 'precision micro': 0.73, 'recall micro': 0.62, 'f1 macro': 0.62, 'precision macro': 0.87, 'recall macro': 0.61, 'f1 weighted': 0.63, 'precision weighted': 0.87, 'recall weighted': 0.62}\n",
      "2021-05-22 18:00:27,609 | 1.0.5 | INFO | ibmfl.party.party_protocol_handler            | successfully finished async request\n",
      "2021-05-22 18:00:28,814 | 1.0.5 | INFO | ibmfl.connection.flask_connection             | Request received for path :7\n",
      "2021-05-22 18:00:28,866 | 1.0.5 | INFO | ibmfl.party.party_protocol_handler            | received a async request\n",
      "2021-05-22 18:00:28,868 | 1.0.5 | INFO | ibmfl.party.party_protocol_handler            | finished async request\n",
      "2021-05-22 18:00:28,868 | 1.0.5 | INFO | ibmfl.party.party_protocol_handler            | Handling async request in a separate thread\n",
      "2021-05-22 18:00:28,870 | 1.0.5 | INFO | werkzeug                                      | 127.0.0.1 - - [22/May/2021 18:00:28] \"POST /7 HTTP/1.1\" 200 -\n",
      "2021-05-22 18:00:28,872 | 1.0.5 | INFO | ibmfl.party.party_protocol_handler            | Received request from aggregator\n",
      "2021-05-22 18:00:28,874 | 1.0.5 | INFO | ibmfl.party.party_protocol_handler            | Received request in with message_type:  7\n",
      "2021-05-22 18:00:28,875 | 1.0.5 | INFO | ibmfl.party.party_protocol_handler            | Received request in PH 7\n",
      "2021-05-22 18:00:28,894 | 1.0.5 | INFO | ibmfl.party.training.local_training_handler   | Local model updated.\n",
      "2021-05-22 18:00:28,902 | 1.0.5 | INFO | ibmfl.party.training.local_training_handler   | Local training started...\n",
      "2021-05-22 18:00:28,904 | 1.0.5 | INFO | ibmfl.model.keras_fl_model                    | Training hps for this round => batch_size: 128, epochs 3, steps_per_epoch 100\n",
      "Epoch 1/3\n",
      "200/200 [==============================] - 0s 2ms/step - loss: 0.5457 - acc: 0.8250\n",
      "Epoch 2/3\n",
      "200/200 [==============================] - 0s 2ms/step - loss: 0.4212 - acc: 0.8500\n",
      "Epoch 3/3\n",
      "200/200 [==============================] - 0s 2ms/step - loss: 0.5443 - acc: 0.8000\n",
      "2021-05-22 18:00:30,366 | 1.0.5 | INFO | ibmfl.party.training.local_training_handler   | Local training done, generating model update...\n",
      "5000/5000 [==============================] - 1s 271us/step\n",
      "2021-05-22 18:00:33,011 | 1.0.5 | INFO | ibmfl.model.keras_fl_model                    | {'f1 micro': 0.81, 'precision micro': 0.88, 'recall micro': 0.75, 'f1 macro': 0.77, 'precision macro': 0.9, 'recall macro': 0.74, 'f1 weighted': 0.78, 'precision weighted': 0.9, 'recall weighted': 0.75}\n",
      "2021-05-22 18:00:33,012 | 1.0.5 | INFO | ibmfl.model.keras_fl_model                    | {'loss': 0.649204524230957, 'acc': 0.8048, 'f1 micro': 0.81, 'precision micro': 0.88, 'recall micro': 0.75, 'f1 macro': 0.77, 'precision macro': 0.9, 'recall macro': 0.74, 'f1 weighted': 0.78, 'precision weighted': 0.9, 'recall weighted': 0.75}\n"
     ]
    },
    {
     "name": "stdout",
     "output_type": "stream",
     "text": [
      "2021-05-22 18:00:33,012 | 1.0.5 | INFO | ibmfl.party.training.local_training_handler   | {'loss': 0.649204524230957, 'acc': 0.8048, 'f1 micro': 0.81, 'precision micro': 0.88, 'recall micro': 0.75, 'f1 macro': 0.77, 'precision macro': 0.9, 'recall macro': 0.74, 'f1 weighted': 0.78, 'precision weighted': 0.9, 'recall weighted': 0.75}\n",
      "2021-05-22 18:00:33,013 | 1.0.5 | INFO | ibmfl.party.party_protocol_handler            | successfully finished async request\n"
     ]
    }
   ],
   "source": [
    "from ibmfl.party.party import Party\n",
    "import tensorflow as tf\n",
    "\n",
    "party_config = get_party_config(party_id)\n",
    "party = Party(config_dict=party_config)\n",
    "party.start()\n",
    "party.register_party()\n",
    "party.proto_handler.is_private = False  ## allows sharing of metrics with aggregator"
   ]
  },
  {
   "cell_type": "code",
   "execution_count": 11,
   "metadata": {},
   "outputs": [],
   "source": [
    "import seaborn as sns"
   ]
  },
  {
   "cell_type": "code",
   "execution_count": 12,
   "metadata": {},
   "outputs": [
    {
     "name": "stdout",
     "output_type": "stream",
     "text": [
      "2021-05-21 18:52:18,358 | 1.0.5 | INFO | ibmfl.util.data_handlers.femnist_keras_data_handler | Loaded training data from examples/data/femnist/random/data_party0.npz\n"
     ]
    }
   ],
   "source": [
    "train, test = party.data_handler.load_dataset()"
   ]
  },
  {
   "cell_type": "code",
   "execution_count": 15,
   "metadata": {},
   "outputs": [
    {
     "data": {
      "text/plain": [
       "<AxesSubplot:ylabel='Count'>"
      ]
     },
     "execution_count": 15,
     "metadata": {},
     "output_type": "execute_result"
    },
    {
     "data": {
      "image/png": "[encoded data removed]",
      "text/plain": [
       "<Figure size 432x288 with 1 Axes>"
      ]
     },
     "metadata": {
      "needs_background": "light"
     },
     "output_type": "display_data"
    }
   ],
   "source": [
    "sns.histplot(train[1], discrete=True, shrink=0.8)"
   ]
  },
  {
   "cell_type": "markdown",
   "metadata": {},
   "source": [
    "## Register All Parties Before Starting Training\n",
    "\n",
    "Now we have started and registered this Party. Next, we will start and register rest of the parties. Once all the Parties have registered we will go back to the Aggregator's notebook to start training."
   ]
  },
  {
   "cell_type": "markdown",
   "metadata": {},
   "source": [
    "## Visualize Results\n",
    "\n",
    "Here we plot the summary graphs from each party's training."
   ]
  },
  {
   "cell_type": "code",
   "execution_count": null,
   "metadata": {},
   "outputs": [],
   "source": [
    "import keras\n",
    "from keras.datasets import mnist\n",
    "from keras.preprocessing.image import ImageDataGenerator\n",
    "_, (X_test, Y_test) = mnist.load_data()"
   ]
  },
  {
   "cell_type": "code",
   "execution_count": null,
   "metadata": {},
   "outputs": [],
   "source": [
    "import matplotlib\n",
    "import matplotlib.pyplot as plt\n",
    "import matplotlib.gridspec as gridspec\n",
    "import numpy as np\n",
    "import keras\n",
    "from keras.datasets import mnist\n",
    "from keras.preprocessing.image import ImageDataGenerator\n",
    "from sklearn.metrics import accuracy_score\n",
    "sample_count = 100\n",
    "num_parties = 1\n",
    "for i in range(10):\n",
    "   test_filter = np.where(Y_test == i)\n",
    "   X_test1, Y_test1 = X_test[test_filter], Y_test[test_filter]\n",
    "   #labels, counts = np.unique(Y_test1, return_counts=True)\n",
    "   np.random.seed(123)\n",
    "   rand_v = np.random.randint(0, X_test1.shape[0],sample_count)\n",
    "   test_digits = X_test1[rand_v]\n",
    "   test_labels = Y_test1[rand_v]\n",
    "   labels, counts = np.unique(test_labels, return_counts=True)\n",
    "   #print('Original lable', labels)\n",
    "   acc_list = np.array([])\n",
    "   y_true = np.full(sample_count, i)\n",
    "\n",
    "       \n",
    "   y_pred = np.array([])\n",
    "   for i_samples in range(sample_count):\n",
    "      pred = party.fl_model.predict(test_digits[i_samples].reshape(1, 28, 28, 1))\n",
    "      y_pred = np.append(y_pred, pred.argmax())\n",
    "   acc = accuracy_score(y_true, y_pred) * 100\n",
    "   #print('y prediction',y_pred)\n",
    "   #print('y true',y_true)\n",
    "   #print('accuracy',acc)\n",
    "   acc_list = np.append(acc_list,acc)\n",
    "\n",
    "   ind = np.arange(num_parties) \n",
    "   fig2 = plt.figure(constrained_layout=True,figsize=(10,10))\n",
    "   fig2.tight_layout()\n",
    "   spec2 = gridspec.GridSpec(ncols=6, nrows=4, figure=fig2) \n",
    "   f2_ax1 = fig2.add_subplot(spec2[0:1, 0:2])\n",
    "   f2_ax1.imshow(test_digits[0], cmap='gray')\n",
    "   plt.axis('off')\n",
    "   f2_ax2 = fig2.add_subplot(spec2[0:1, 3:])\n",
    "   labels = [(i+1) for i in range(num_parties)] \n",
    "   \n",
    "   x = np.arange(num_parties)\n",
    "  \n",
    "\n",
    "   rects1 = f2_ax2.bar(x, acc_list, width=0.3)\n",
    "   # Add some text for labels, title and custom x-axis tick labels, etc.\n",
    "   f2_ax2.set_xlabel('Party ' + str(party_id))\n",
    "   f2_ax2.set_ylabel('Average Prediction Accuracy \\n over '+str(sample_count)+' samples')\n",
    "   f2_ax2.set_title('Average Prediction Accuracy by parties for label '+str(i))\n",
    "   f2_ax2.set_xticks(x)\n",
    "   f2_ax2.set_xticklabels(labels)"
   ]
  },
  {
   "cell_type": "markdown",
   "metadata": {},
   "source": [
    "## Shut Down\n",
    "\n",
    "Invoke the `stop()` method on each of the network participants to terminate the service."
   ]
  },
  {
   "cell_type": "code",
   "execution_count": null,
   "metadata": {},
   "outputs": [],
   "source": [
    "party.stop()"
   ]
  },
  {
   "cell_type": "code",
   "execution_count": null,
   "metadata": {},
   "outputs": [],
   "source": []
  }
 ],
 "metadata": {
  "kernelspec": {
   "display_name": "Python 3",
   "language": "python",
   "name": "python3"
  },
  "language_info": {
   "codemirror_mode": {
    "name": "ipython",
    "version": 3
   },
   "file_extension": ".py",
   "mimetype": "text/x-python",
   "name": "python",
   "nbconvert_exporter": "python",
   "pygments_lexer": "ipython3",
   "version": "3.6.13"
  }
 },
 "nbformat": 4,
 "nbformat_minor": 4
}
