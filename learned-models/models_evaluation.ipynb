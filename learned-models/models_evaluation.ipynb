{
 "cells": [
  {
   "cell_type": "code",
   "execution_count": 32,
   "id": "299e7e8e",
   "metadata": {},
   "outputs": [],
   "source": [
    "from keras.models import load_model\n",
    "import numpy as np\n",
    "from keras.utils import to_categorical"
   ]
  },
  {
   "cell_type": "code",
   "execution_count": 59,
   "id": "81a27764",
   "metadata": {},
   "outputs": [],
   "source": [
    "models_names = [\n",
    "    'fedavg-iid-30-6.h5',\n",
    "    'fedavg-iid-150-3.h5',\n",
    "    'fedavg-non-iid-30-6.h5',\n",
    "    'fedavg-non-iid-150-3.h5',\n",
    "    'fedplus-iid-30-6.h5',\n",
    "    'fedplus-iid-150-3.h5',\n",
    "    'fedplus-non-iid-30-6.h5',\n",
    "    'fedplus-non-iid-150-3.h5',\n",
    "    'fedprox-iid-30-6.h5',\n",
    "    'fedprox-iid-150-3.h5',\n",
    "    'fedprox-non-iid-30-6.h5',\n",
    "    'fedprox-non-iid-150-3.h5'\n",
    "]"
   ]
  },
  {
   "cell_type": "code",
   "execution_count": 40,
   "id": "45261723",
   "metadata": {},
   "outputs": [],
   "source": [
    "x_test = []\n",
    "y_test = []\n",
    "\n",
    "for i in range(25, 29):\n",
    "    data = np.load(f'./iid/data_party{i}.npz')\n",
    "    x_test.extend(data['x_test'])\n",
    "    y_test.extend(data['y_test'])\n",
    "    \n",
    "x_test = np.array(x_test)\n",
    "y_test = np.array(y_test)"
   ]
  },
  {
   "cell_type": "code",
   "execution_count": 79,
   "id": "2c758c42",
   "metadata": {},
   "outputs": [],
   "source": [
    "models = dict()\n",
    "\n",
    "for model_name in models_names:\n",
    "    m = load_model(model_name)\n",
    "    models[model_name[:-3]] = m"
   ]
  },
  {
   "cell_type": "code",
   "execution_count": 82,
   "id": "697a3d6a",
   "metadata": {},
   "outputs": [
    {
     "name": "stdout",
     "output_type": "stream",
     "text": [
      "800/800 [==============================] - 1s 944us/step\n",
      "800/800 [==============================] - 1s 979us/step\n",
      "800/800 [==============================] - 2s 3ms/step\n",
      "800/800 [==============================] - 3s 3ms/step: \n",
      "800/800 [==============================] - 2s 3ms/step\n",
      "800/800 [==============================] - 3s 3ms/step\n",
      "800/800 [==============================] - 3s 4ms/step\n",
      "800/800 [==============================] - 1s 2ms/step\n",
      "800/800 [==============================] - 1s 932us/step\n",
      "800/800 [==============================] - 1s 931us/step\n",
      "800/800 [==============================] - 1s 930us/step\n",
      "800/800 [==============================] - 2s 2ms/step\n"
     ]
    }
   ],
   "source": [
    "results = dict()\n",
    "\n",
    "for key in models.keys():\n",
    "    model = models[key]\n",
    "    res = model.evaluate(x_test.reshape(800, 28, 28, 1), to_categorical(y_test))\n",
    "    results[key] = {\n",
    "        'loss': res[0],\n",
    "        'acc': res[1]\n",
    "    }"
   ]
  },
  {
   "cell_type": "code",
   "execution_count": 83,
   "id": "80d75813",
   "metadata": {},
   "outputs": [],
   "source": [
    "import pandas as pd"
   ]
  },
  {
   "cell_type": "code",
   "execution_count": 87,
   "id": "a5c7a05c",
   "metadata": {},
   "outputs": [],
   "source": [
    "df = pd.DataFrame(results)"
   ]
  },
  {
   "cell_type": "code",
   "execution_count": 88,
   "id": "7e2e2fa4",
   "metadata": {},
   "outputs": [
    {
     "data": {
      "text/html": [
       "<div>\n",
       "<style scoped>\n",
       "    .dataframe tbody tr th:only-of-type {\n",
       "        vertical-align: middle;\n",
       "    }\n",
       "\n",
       "    .dataframe tbody tr th {\n",
       "        vertical-align: top;\n",
       "    }\n",
       "\n",
       "    .dataframe thead th {\n",
       "        text-align: right;\n",
       "    }\n",
       "</style>\n",
       "<table border=\"1\" class=\"dataframe\">\n",
       "  <thead>\n",
       "    <tr style=\"text-align: right;\">\n",
       "      <th></th>\n",
       "      <th>loss</th>\n",
       "      <th>acc</th>\n",
       "    </tr>\n",
       "  </thead>\n",
       "  <tbody>\n",
       "    <tr>\n",
       "      <th>fedavg-iid-30-6</th>\n",
       "      <td>0.955069</td>\n",
       "      <td>0.70750</td>\n",
       "    </tr>\n",
       "    <tr>\n",
       "      <th>fedavg-iid-150-3</th>\n",
       "      <td>0.873934</td>\n",
       "      <td>0.73125</td>\n",
       "    </tr>\n",
       "    <tr>\n",
       "      <th>fedavg-non-iid-30-6</th>\n",
       "      <td>2.954125</td>\n",
       "      <td>0.59500</td>\n",
       "    </tr>\n",
       "    <tr>\n",
       "      <th>fedavg-non-iid-150-3</th>\n",
       "      <td>2.508348</td>\n",
       "      <td>0.62000</td>\n",
       "    </tr>\n",
       "    <tr>\n",
       "      <th>fedplus-iid-30-6</th>\n",
       "      <td>1.971942</td>\n",
       "      <td>0.65250</td>\n",
       "    </tr>\n",
       "    <tr>\n",
       "      <th>fedplus-iid-150-3</th>\n",
       "      <td>1.731395</td>\n",
       "      <td>0.67750</td>\n",
       "    </tr>\n",
       "    <tr>\n",
       "      <th>fedplus-non-iid-30-6</th>\n",
       "      <td>5.367593</td>\n",
       "      <td>0.50250</td>\n",
       "    </tr>\n",
       "    <tr>\n",
       "      <th>fedplus-non-iid-150-3</th>\n",
       "      <td>4.264275</td>\n",
       "      <td>0.55125</td>\n",
       "    </tr>\n",
       "    <tr>\n",
       "      <th>fedprox-iid-30-6</th>\n",
       "      <td>0.965059</td>\n",
       "      <td>0.70875</td>\n",
       "    </tr>\n",
       "    <tr>\n",
       "      <th>fedprox-iid-150-3</th>\n",
       "      <td>0.871321</td>\n",
       "      <td>0.73500</td>\n",
       "    </tr>\n",
       "    <tr>\n",
       "      <th>fedprox-non-iid-30-6</th>\n",
       "      <td>2.849531</td>\n",
       "      <td>0.59875</td>\n",
       "    </tr>\n",
       "    <tr>\n",
       "      <th>fedprox-non-iid-150-3</th>\n",
       "      <td>2.482963</td>\n",
       "      <td>0.62375</td>\n",
       "    </tr>\n",
       "  </tbody>\n",
       "</table>\n",
       "</div>"
      ],
      "text/plain": [
       "                           loss      acc\n",
       "fedavg-iid-30-6        0.955069  0.70750\n",
       "fedavg-iid-150-3       0.873934  0.73125\n",
       "fedavg-non-iid-30-6    2.954125  0.59500\n",
       "fedavg-non-iid-150-3   2.508348  0.62000\n",
       "fedplus-iid-30-6       1.971942  0.65250\n",
       "fedplus-iid-150-3      1.731395  0.67750\n",
       "fedplus-non-iid-30-6   5.367593  0.50250\n",
       "fedplus-non-iid-150-3  4.264275  0.55125\n",
       "fedprox-iid-30-6       0.965059  0.70875\n",
       "fedprox-iid-150-3      0.871321  0.73500\n",
       "fedprox-non-iid-30-6   2.849531  0.59875\n",
       "fedprox-non-iid-150-3  2.482963  0.62375"
      ]
     },
     "execution_count": 88,
     "metadata": {},
     "output_type": "execute_result"
    }
   ],
   "source": [
    "df.T"
   ]
  },
  {
   "cell_type": "code",
   "execution_count": null,
   "id": "f0a5990c",
   "metadata": {},
   "outputs": [],
   "source": []
  }
 ],
 "metadata": {
  "kernelspec": {
   "display_name": "Python 3",
   "language": "python",
   "name": "python3"
  },
  "language_info": {
   "codemirror_mode": {
    "name": "ipython",
    "version": 3
   },
   "file_extension": ".py",
   "mimetype": "text/x-python",
   "name": "python",
   "nbconvert_exporter": "python",
   "pygments_lexer": "ipython3",
   "version": "3.6.13"
  }
 },
 "nbformat": 4,
 "nbformat_minor": 5
}
